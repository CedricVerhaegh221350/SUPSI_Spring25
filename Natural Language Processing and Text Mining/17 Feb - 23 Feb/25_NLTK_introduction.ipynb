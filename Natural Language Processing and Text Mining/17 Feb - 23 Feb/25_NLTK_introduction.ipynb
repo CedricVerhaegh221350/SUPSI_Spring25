{
  "nbformat": 4,
  "nbformat_minor": 0,
  "metadata": {
    "colab": {
      "provenance": []
    },
    "kernelspec": {
      "name": "python3",
      "display_name": "Python 3"
    },
    "language_info": {
      "name": "python"
    }
  },
  "cells": [
    {
      "cell_type": "markdown",
      "source": [
        "NLTK introduction"
      ],
      "metadata": {
        "id": "V2Y7rmFB1KCd"
      }
    },
    {
      "cell_type": "code",
      "execution_count": null,
      "metadata": {
        "id": "kstXCrGR1GdG"
      },
      "outputs": [],
      "source": [
        "import nltk\n"
      ]
    },
    {
      "cell_type": "markdown",
      "source": [
        "#Tokenization\n",
        "\n",
        "\n",
        "\n",
        "Text splitting :\n",
        "\n"
      ],
      "metadata": {
        "id": "OEkPZj0P2-t3"
      }
    },
    {
      "cell_type": "code",
      "source": [
        "text = \"Favorable coverage in The Seattle Times by architecture journalist Margery Phillips boosted McAdoo's career. A residence designed by him in Burien was declared the \\\"Home of the Year\\\" by The Seattle Times in association with the American Institute of Architects. After designing a number of low-income houses and apartments throughout the 1950s, including around eighty single-family \\\"Houses of Merit\\\", he was hired by the Agency for International Development to design modular houses in Jamaica.\""
      ],
      "metadata": {
        "id": "azfYbpVE6paX"
      },
      "execution_count": null,
      "outputs": []
    },
    {
      "cell_type": "code",
      "source": [
        "units = text.split(\"a\") #in brackets is the character used for segmentation\n",
        "print(f\"Word Tokenization: {units}\")"
      ],
      "metadata": {
        "colab": {
          "base_uri": "https://localhost:8080/"
        },
        "id": "sWPaidAx9j1V",
        "outputId": "3e0baed4-a1f5-4789-db14-94b1d17af714"
      },
      "execution_count": null,
      "outputs": [
        {
          "output_type": "stream",
          "name": "stdout",
          "text": [
            "Word Tokenization: ['F', 'vor', 'ble cover', 'ge in The Se', 'ttle Times by ', 'rchitecture journ', 'list M', \"rgery Phillips boosted McAdoo's c\", 'reer. A residence designed by him in Burien w', 's decl', 'red the \"Home of the Ye', 'r\" by The Se', 'ttle Times in ', 'ssoci', 'tion with the Americ', 'n Institute of Architects. After designing ', ' number of low-income houses ', 'nd ', 'p', 'rtments throughout the 1950s, including ', 'round eighty single-f', 'mily \"Houses of Merit\", he w', 's hired by the Agency for Intern', 'tion', 'l Development to design modul', 'r houses in J', 'm', 'ic', '.']\n"
          ]
        }
      ]
    },
    {
      "cell_type": "code",
      "source": [
        "units = text.split(\"'\") #in brackets is the character used for segmentation\n",
        "print(f\"Word Tokenization: {units}\")"
      ],
      "metadata": {
        "colab": {
          "base_uri": "https://localhost:8080/"
        },
        "id": "3AZqzGae98cc",
        "outputId": "457194a8-121a-4cc9-d15b-35575733f451"
      },
      "execution_count": null,
      "outputs": [
        {
          "output_type": "stream",
          "name": "stdout",
          "text": [
            "Word Tokenization: ['Favorable coverage in The Seattle Times by architecture journalist Margery Phillips boosted McAdoo', 's career. A residence designed by him in Burien was declared the \"Home of the Year\" by The Seattle Times in association with the American Institute of Architects. After designing a number of low-income houses and apartments throughout the 1950s, including around eighty single-family \"Houses of Merit\", he was hired by the Agency for International Development to design modular houses in Jamaica.']\n"
          ]
        }
      ]
    },
    {
      "cell_type": "markdown",
      "source": [
        "## Word tokenization"
      ],
      "metadata": {
        "id": "w8XRtlq49kLg"
      }
    },
    {
      "cell_type": "code",
      "source": [
        "nltk.download('punkt_tab')"
      ],
      "metadata": {
        "colab": {
          "base_uri": "https://localhost:8080/"
        },
        "id": "FzrFGm8C7D_M",
        "outputId": "b14a15b6-3c8e-4d07-ac0c-204bfe95a879"
      },
      "execution_count": null,
      "outputs": [
        {
          "output_type": "stream",
          "name": "stderr",
          "text": [
            "[nltk_data] Downloading package punkt_tab to /root/nltk_data...\n",
            "[nltk_data]   Unzipping tokenizers/punkt_tab.zip.\n"
          ]
        },
        {
          "output_type": "execute_result",
          "data": {
            "text/plain": [
              "True"
            ]
          },
          "metadata": {},
          "execution_count": 5
        }
      ]
    },
    {
      "cell_type": "code",
      "source": [
        "words = nltk.word_tokenize(text)\n",
        "\n",
        "print(f\"Word Tokenization: {words}\")"
      ],
      "metadata": {
        "colab": {
          "base_uri": "https://localhost:8080/"
        },
        "id": "kc2WVmS1298p",
        "outputId": "066179af-01f8-482f-dcb8-8d37075f9f74"
      },
      "execution_count": null,
      "outputs": [
        {
          "output_type": "stream",
          "name": "stdout",
          "text": [
            "Word Tokenization: ['Favorable', 'coverage', 'in', 'The', 'Seattle', 'Times', 'by', 'architecture', 'journalist', 'Margery', 'Phillips', 'boosted', 'McAdoo', \"'s\", 'career', '.', 'A', 'residence', 'designed', 'by', 'him', 'in', 'Burien', 'was', 'declared', 'the', '``', 'Home', 'of', 'the', 'Year', \"''\", 'by', 'The', 'Seattle', 'Times', 'in', 'association', 'with', 'the', 'American', 'Institute', 'of', 'Architects', '.', 'After', 'designing', 'a', 'number', 'of', 'low-income', 'houses', 'and', 'apartments', 'throughout', 'the', '1950s', ',', 'including', 'around', 'eighty', 'single-family', '``', 'Houses', 'of', 'Merit', \"''\", ',', 'he', 'was', 'hired', 'by', 'the', 'Agency', 'for', 'International', 'Development', 'to', 'design', 'modular', 'houses', 'in', 'Jamaica', '.']\n"
          ]
        }
      ]
    },
    {
      "cell_type": "code",
      "source": [
        "st = nltk.SpaceTokenizer()\n",
        "words = st.tokenize(text)\n",
        "print(f\"Word Tokenization: {words}\")"
      ],
      "metadata": {
        "colab": {
          "base_uri": "https://localhost:8080/"
        },
        "id": "BqLNFNxZ8HpR",
        "outputId": "ba5e1af7-6e42-4f6a-a51c-abeaa5ad4688"
      },
      "execution_count": null,
      "outputs": [
        {
          "output_type": "stream",
          "name": "stdout",
          "text": [
            "Word Tokenization: ['Favorable', 'coverage', 'in', 'The', 'Seattle', 'Times', 'by', 'architecture', 'journalist', 'Margery', 'Phillips', 'boosted', \"McAdoo's\", 'career.', 'A', 'residence', 'designed', 'by', 'him', 'in', 'Burien', 'was', 'declared', 'the', '\"Home', 'of', 'the', 'Year\"', 'by', 'The', 'Seattle', 'Times', 'in', 'association', 'with', 'the', 'American', 'Institute', 'of', 'Architects.', 'After', 'designing', 'a', 'number', 'of', 'low-income', 'houses', 'and', 'apartments', 'throughout', 'the', '1950s,', 'including', 'around', 'eighty', 'single-family', '\"Houses', 'of', 'Merit\",', 'he', 'was', 'hired', 'by', 'the', 'Agency', 'for', 'International', 'Development', 'to', 'design', 'modular', 'houses', 'in', 'Jamaica.']\n"
          ]
        }
      ]
    },
    {
      "cell_type": "markdown",
      "source": [
        "## sentence tokenization"
      ],
      "metadata": {
        "id": "qHDoFu7K3ABM"
      }
    },
    {
      "cell_type": "code",
      "source": [
        "sentences = nltk.sent_tokenize(text)\n",
        "\n",
        "print(f\"Sentence Tokenization: {sentences}\")"
      ],
      "metadata": {
        "id": "wVtTR41_2HUI",
        "colab": {
          "base_uri": "https://localhost:8080/"
        },
        "outputId": "bda10579-ba7b-43e5-f7b6-23d48240ff05"
      },
      "execution_count": null,
      "outputs": [
        {
          "output_type": "stream",
          "name": "stdout",
          "text": [
            "Sentence Tokenization: [\"Favorable coverage in The Seattle Times by architecture journalist Margery Phillips boosted McAdoo's career.\", 'A residence designed by him in Burien was declared the \"Home of the Year\" by The Seattle Times in association with the American Institute of Architects.', 'After designing a number of low-income houses and apartments throughout the 1950s, including around eighty single-family \"Houses of Merit\", he was hired by the Agency for International Development to design modular houses in Jamaica.']\n"
          ]
        }
      ]
    },
    {
      "cell_type": "markdown",
      "source": [
        "#POS tagging"
      ],
      "metadata": {
        "id": "DpEUy44i3OPj"
      }
    },
    {
      "cell_type": "code",
      "source": [
        "import nltk\n",
        "nltk.download('punkt')\n",
        "nltk.download('punkt_tab')\n",
        "nltk.download('averaged_perceptron_tagger_eng')\n"
      ],
      "metadata": {
        "colab": {
          "base_uri": "https://localhost:8080/"
        },
        "id": "FdD_zDSfkcC2",
        "outputId": "66ad9c2b-24b3-4b0e-9def-8b9a5befc0c6"
      },
      "execution_count": null,
      "outputs": [
        {
          "output_type": "stream",
          "name": "stderr",
          "text": [
            "[nltk_data] Downloading package punkt to /root/nltk_data...\n",
            "[nltk_data]   Unzipping tokenizers/punkt.zip.\n",
            "[nltk_data] Downloading package punkt_tab to /root/nltk_data...\n",
            "[nltk_data]   Unzipping tokenizers/punkt_tab.zip.\n",
            "[nltk_data] Downloading package averaged_perceptron_tagger_eng to\n",
            "[nltk_data]     /root/nltk_data...\n",
            "[nltk_data]   Unzipping taggers/averaged_perceptron_tagger_eng.zip.\n"
          ]
        },
        {
          "output_type": "execute_result",
          "data": {
            "text/plain": [
              "True"
            ]
          },
          "metadata": {},
          "execution_count": 1
        }
      ]
    },
    {
      "cell_type": "code",
      "source": [
        "sentences = [\n",
        "    \"Although a chatbot's core function is to mimic a human conversationalist, ChatGPT is versatile.\",\n",
        "    \"ChatGPT remembers a limited number of previous prompts in the same conversation.\",\n",
        "    \"Journalists have speculated that this will allow ChatGPT to be used as a personalized therapist.\"\n",
        "]\n",
        "\n",
        "for sentence in sentences:\n",
        "  words = nltk.word_tokenize(sentence)\n",
        "  pos_tags = nltk.pos_tag(words)\n",
        "  print(f\"\\n{sentence}\")\n",
        "\n",
        "  for w, pos in pos_tags:\n",
        "    print(f\"{w} : {pos}\")"
      ],
      "metadata": {
        "id": "BKYiIwIO36L1"
      },
      "execution_count": null,
      "outputs": []
    },
    {
      "cell_type": "code",
      "source": [],
      "metadata": {
        "id": "Qsfochyg38qY"
      },
      "execution_count": null,
      "outputs": []
    }
  ]
}