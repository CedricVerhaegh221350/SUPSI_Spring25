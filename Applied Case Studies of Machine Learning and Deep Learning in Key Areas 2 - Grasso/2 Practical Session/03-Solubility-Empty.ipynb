{
 "cells": [
  {
   "cell_type": "markdown",
   "metadata": {},
   "source": [
    "### **ESTIMATING AQUEOUS SOLUBILITY FROM MOLECULAR STRUCTURE**\n",
    "##### **REF: doi.org/10.1021/ci034243x**  \n",
    "---\n",
    "\"We have probably seen the application of machine learning in one form or another. For instance, machine learning have been used together with computer vision in self-driving cars and self-checkout convenience stores, in retail for market basket analysis (i.e. finding products that are usually purchased together), in entertainment for recommendation systems and the list goes on.\"\n",
    "\n",
    "#### We will understand how machine learning could be used within the drug discovery pipeline, and in particular we will see a step-by-step procedure to build a simple regression model in Python for predicting the solubility of molecules.\n",
    "---"
   ]
  },
  {
   "cell_type": "markdown",
   "metadata": {
    "id": "g1qtHa0zXfWM"
   },
   "source": [
    "#### **1.0 - Importing data from database**\n",
    "Chemical structures are encoded by a string of text known as the \n",
    "SMILES notation which is an acronym for Simplified Molecular-Input Line-Entry System. \n",
    "Let’s have a look at the contents of the SMILES column from the sol dataframe.\n",
    "Each line represents a unique molecule. \n",
    "To select the first molecule (the first row), type sol.SMILES[0] and the output that we will see is ClCC(Cl)(Cl)Cl."
   ]
  },
  {
   "cell_type": "code",
   "execution_count": null,
   "metadata": {
    "id": "9MdfbvFKXtXq"
   },
   "outputs": [],
   "source": []
  },
  {
   "cell_type": "markdown",
   "metadata": {},
   "source": [
    "#### **1.1 Converting a molecule from the SMILES string to rdkit object** "
   ]
  },
  {
   "cell_type": "code",
   "execution_count": 1,
   "metadata": {},
   "outputs": [],
   "source": [
    "#Clean the database\n",
    "#Remove identical molecules\n"
   ]
  },
  {
   "cell_type": "markdown",
   "metadata": {},
   "source": [
    "#### **1.2 Calculate molecular descriptors**\n",
    "---------------------------------\n",
    "We will now represent each of the molecules in the dataset by a set of molecular descriptors that will be used for model building.\n",
    "\n",
    "To predict the aqueous solubility, we will use 4 molecular descriptors:\n",
    "\n",
    "**MW (Molecular weight)**\n",
    "\n",
    "**RB (Number of rotatable bonds)**\n",
    "\n",
    "**cLogP (Octanol-water partition coefficient)**\n",
    "\n",
    "**AP (Aromatic proportion = number of aromatic atoms / number of heavy atoms)**\n",
    "\n",
    "Unfortunately, rdkit readily computes the first 3. As for the AP descriptor, we will calculate this by manually computing the ratio of the number of aromatic atoms to the total number of heavy atoms which rdkit can compute."
   ]
  },
  {
   "cell_type": "code",
   "execution_count": 3,
   "metadata": {},
   "outputs": [],
   "source": [
    "#Calculating LogP, MW and RB descriptors\n",
    "#----------------------------------------\n",
    "#We will now create a custom function called generate() for computing the 3 descriptors LogP, MW and RB.\n",
    "\n",
    "Descriptors.MolLogP(mol)\n",
    "Descriptors.NumRotatableBonds(mol)\n",
    "Descriptors.MolWt(mol)\n",
    "Descriptors.HeavyAtomCount(mol)\n",
    "\n"
   ]
  },
  {
   "cell_type": "code",
   "execution_count": null,
   "metadata": {},
   "outputs": [
    {
     "data": {
      "text/html": [
       "<div>\n",
       "<style scoped>\n",
       "    .dataframe tbody tr th:only-of-type {\n",
       "        vertical-align: middle;\n",
       "    }\n",
       "\n",
       "    .dataframe tbody tr th {\n",
       "        vertical-align: top;\n",
       "    }\n",
       "\n",
       "    .dataframe thead th {\n",
       "        text-align: right;\n",
       "    }\n",
       "</style>\n",
       "<table border=\"1\" class=\"dataframe\">\n",
       "  <thead>\n",
       "    <tr style=\"text-align: right;\">\n",
       "      <th></th>\n",
       "      <th>MolLogP</th>\n",
       "      <th>MolWt</th>\n",
       "      <th>NumRotatableBonds</th>\n",
       "    </tr>\n",
       "  </thead>\n",
       "  <tbody>\n",
       "    <tr>\n",
       "      <th>0</th>\n",
       "      <td>2.59540</td>\n",
       "      <td>167.850</td>\n",
       "      <td>0.0</td>\n",
       "    </tr>\n",
       "    <tr>\n",
       "      <th>1</th>\n",
       "      <td>2.37650</td>\n",
       "      <td>133.405</td>\n",
       "      <td>0.0</td>\n",
       "    </tr>\n",
       "    <tr>\n",
       "      <th>2</th>\n",
       "      <td>2.59380</td>\n",
       "      <td>167.850</td>\n",
       "      <td>1.0</td>\n",
       "    </tr>\n",
       "    <tr>\n",
       "      <th>3</th>\n",
       "      <td>2.02890</td>\n",
       "      <td>133.405</td>\n",
       "      <td>1.0</td>\n",
       "    </tr>\n",
       "    <tr>\n",
       "      <th>4</th>\n",
       "      <td>2.91890</td>\n",
       "      <td>187.375</td>\n",
       "      <td>1.0</td>\n",
       "    </tr>\n",
       "    <tr>\n",
       "      <th>...</th>\n",
       "      <td>...</td>\n",
       "      <td>...</td>\n",
       "      <td>...</td>\n",
       "    </tr>\n",
       "    <tr>\n",
       "      <th>1139</th>\n",
       "      <td>1.98820</td>\n",
       "      <td>287.343</td>\n",
       "      <td>8.0</td>\n",
       "    </tr>\n",
       "    <tr>\n",
       "      <th>1140</th>\n",
       "      <td>3.42130</td>\n",
       "      <td>286.114</td>\n",
       "      <td>2.0</td>\n",
       "    </tr>\n",
       "    <tr>\n",
       "      <th>1141</th>\n",
       "      <td>3.60960</td>\n",
       "      <td>308.333</td>\n",
       "      <td>4.0</td>\n",
       "    </tr>\n",
       "    <tr>\n",
       "      <th>1142</th>\n",
       "      <td>2.56214</td>\n",
       "      <td>354.815</td>\n",
       "      <td>3.0</td>\n",
       "    </tr>\n",
       "    <tr>\n",
       "      <th>1143</th>\n",
       "      <td>2.02164</td>\n",
       "      <td>179.219</td>\n",
       "      <td>1.0</td>\n",
       "    </tr>\n",
       "  </tbody>\n",
       "</table>\n",
       "<p>1144 rows × 3 columns</p>\n",
       "</div>"
      ],
      "text/plain": [
       "      MolLogP    MolWt  NumRotatableBonds\n",
       "0     2.59540  167.850                0.0\n",
       "1     2.37650  133.405                0.0\n",
       "2     2.59380  167.850                1.0\n",
       "3     2.02890  133.405                1.0\n",
       "4     2.91890  187.375                1.0\n",
       "...       ...      ...                ...\n",
       "1139  1.98820  287.343                8.0\n",
       "1140  3.42130  286.114                2.0\n",
       "1141  3.60960  308.333                4.0\n",
       "1142  2.56214  354.815                3.0\n",
       "1143  2.02164  179.219                1.0\n",
       "\n",
       "[1144 rows x 3 columns]"
      ]
     },
     "execution_count": 26,
     "metadata": {},
     "output_type": "execute_result"
    }
   ],
   "source": [
    "#Compute SMILES = 'COc1cccc2cc(C(=O)NCCCCN3CCN(c4cccc5nccnc54)CC3)oc21'\n",
    "m = Chem.MolFromSmiles(SMILES)\n",
    "aromatic_atoms = [m.GetAtomWithIdx(i).GetIsAromatic() for i in range(m.GetNumAtoms())]\n",
    "aromatic_atoms\n",
    "\n",
    "def AromaticAtoms(m):\n",
    "  aromatic_atoms = [m.GetAtomWithIdx(i).GetIsAromatic() for i in range(m.GetNumAtoms())]\n",
    "  aa_count = []\n",
    "  for i in aromatic_atoms:\n",
    "    if i==True:\n",
    "      aa_count.append(1)\n",
    "  sum_aa_count = sum(aa_count)\n",
    "  return sum_aa_count\n",
    "\n",
    "#Now, apply the AromaticAtoms() function to compute the number of aromatic atoms for a query SMILES string.\n",
    "AromaticAtoms(m)\n",
    "\n"
   ]
  },
  {
   "cell_type": "markdown",
   "metadata": {},
   "source": [
    "#### **2.0 - DATA SPLIT**\n",
    "\n",
    "We will now proceed to performing data splitting using a split ratio of 80/20 (i.e. we do this by assigning the test_size parameter to 0.2) whereby 80% of the initial dataset will be used as the training set and the remaining 20% of the dataset will be used as the testing set."
   ]
  },
  {
   "cell_type": "code",
   "execution_count": null,
   "metadata": {},
   "outputs": [],
   "source": [
    "from sklearn.model_selection import train_test_split\n",
    "Y = dataset.iloc[:,1]\n",
    "X_train, X_test, Y_train, Y_test = train_test_split(X, Y,\n",
    "                                                    test_size=0.2)"
   ]
  },
  {
   "attachments": {},
   "cell_type": "markdown",
   "metadata": {},
   "source": [
    "#### **3.0 - REGRESSION AND CORRELATION COEFFICIENTS**\n",
    "\n",
    "The trained model will be applied here to predict the LogS values in the **train** and **test** set"
   ]
  },
  {
   "cell_type": "code",
   "execution_count": null,
   "metadata": {},
   "outputs": [
    {
     "name": "stdout",
     "output_type": "stream",
     "text": [
      "Coefficients: [-0.75547434 -0.00649318  0.00520505 -0.35570096]\n",
      "Intercept: 0.24916520303844703\n",
      "Mean squared error (MSE): 0.97\n",
      "Coefficient of determination (R^2): 0.77\n"
     ]
    },
    {
     "name": "stderr",
     "output_type": "stream",
     "text": [
      "/Users/gianvitograsso/miniconda3/envs/my-rdkit-env/lib/python3.9/site-packages/sklearn/utils/validation.py:1688: FutureWarning: Feature names only support names that are all strings. Got feature names with dtypes: ['int', 'str']. An error will be raised in 1.2.\n",
      "  warnings.warn(\n"
     ]
    }
   ],
   "source": [
    "#TRAINfrom sklearn import linear_model\n",
    "from sklearn.metrics import mean_squared_error, r2_score\n",
    "model = linear_model.LinearRegression()\n",
    "\n",
    "Y_pred_train = model.predict(X_train)\n",
    "print('Coefficients:', model.coef_)\n",
    "print('Intercept:', model.intercept_)\n",
    "print('Mean squared error (MSE): %.2f'\n",
    "      % mean_squared_error(Y_train, Y_pred_train))\n",
    "print('Coefficient of determination (R^2): %.2f'\n",
    "      % r2_score(Y_train, Y_pred_train))"
   ]
  },
  {
   "cell_type": "markdown",
   "metadata": {},
   "source": [
    "Let’s analyse the above output line by line:\n",
    "In the first line, Coefficients lists the regression coefficient values of each independent variables (i.e. the 4 molecular descriptors consisting of LogP, MW, RB and AP)\n",
    "In the second line, Intercept is essentially the y-intercept value where the regression line passes when X = 0.\n",
    "In the third line, Mean squared error (MSE) is used as an error measure (i.e. the lower the better).\n",
    "In the fourth line, Coefficient of determination (R²) is the squared value of Pearson’s correlation coefficient value and is used as a measure of goodness of fit for linear regression models (i.e. the higher the better)"
   ]
  },
  {
   "cell_type": "code",
   "execution_count": null,
   "metadata": {},
   "outputs": [
    {
     "name": "stdout",
     "output_type": "stream",
     "text": [
      "Coefficients: [-0.75547434 -0.00649318  0.00520505 -0.35570096]\n",
      "Intercept: 0.24916520303844703\n",
      "Mean squared error (MSE): 1.15\n",
      "Coefficient of determination (R^2): 0.75\n"
     ]
    },
    {
     "name": "stderr",
     "output_type": "stream",
     "text": [
      "/Users/gianvitograsso/miniconda3/envs/my-rdkit-env/lib/python3.9/site-packages/sklearn/utils/validation.py:1688: FutureWarning: Feature names only support names that are all strings. Got feature names with dtypes: ['int', 'str']. An error will be raised in 1.2.\n",
      "  warnings.warn(\n"
     ]
    }
   ],
   "source": [
    "# TEST SET\n",
    "Y_pred_test = model.predict(X_test)\n",
    "print('Coefficients:', model.coef_)\n",
    "print('Intercept:', model.intercept_)\n",
    "print('Mean squared error (MSE): %.2f'\n",
    "      % mean_squared_error(Y_test, Y_pred_test))\n",
    "print('Coefficient of determination (R^2): %.2f'\n",
    "      % r2_score(Y_test, Y_pred_test))"
   ]
  },
  {
   "cell_type": "markdown",
   "metadata": {},
   "source": [
    "#### **5.0 - DERIVING THE LINEAR EQUATION**"
   ]
  },
  {
   "cell_type": "code",
   "execution_count": null,
   "metadata": {},
   "outputs": [
    {
     "name": "stdout",
     "output_type": "stream",
     "text": [
      "LogS =  0.25 -0.76 LogP -0.0065 MW 0.0052 RB -0.36 AP\n"
     ]
    }
   ],
   "source": [
    "yintercept = '%.2f' % model.intercept_\n",
    "LogP = '%.2f LogP' % model.coef_[0]\n",
    "MW = '%.4f MW' % model.coef_[1]\n",
    "RB = '%.4f RB' % model.coef_[2]\n",
    "AP = '%.2f AP' % model.coef_[3]\n",
    "print('LogS = ' + \n",
    "      ' ' + \n",
    "      yintercept + \n",
    "      ' ' + \n",
    "      LogP + \n",
    "      ' ' + \n",
    "      MW + \n",
    "      ' ' + \n",
    "      RB + \n",
    "      ' ' + \n",
    "      AP)"
   ]
  }
 ],
 "metadata": {
  "colab": {
   "collapsed_sections": [],
   "name": "Y-Scrambling-Solubility.ipynb",
   "provenance": []
  },
  "kernelspec": {
   "display_name": "ACSML",
   "language": "python",
   "name": "python3"
  },
  "language_info": {
   "codemirror_mode": {
    "name": "ipython",
    "version": 3
   },
   "file_extension": ".py",
   "mimetype": "text/x-python",
   "name": "python",
   "nbconvert_exporter": "python",
   "pygments_lexer": "ipython3",
   "version": "3.9.16"
  },
  "vscode": {
   "interpreter": {
    "hash": "446fa612a56ced092b6e195fba5b82063c8d2b8c99318529b3c7c07b9e0dac06"
   }
  }
 },
 "nbformat": 4,
 "nbformat_minor": 0
}
